{
 "cells": [
  {
   "cell_type": "code",
   "execution_count": 0,
   "metadata": {
    "application/vnd.databricks.v1+cell": {
     "cellMetadata": {},
     "inputWidgets": {},
     "nuid": "0aba4a79-e398-4213-9f4e-153b5552a470",
     "showTitle": false,
     "title": ""
    }
   },
   "outputs": [],
   "source": [
    "# %pip install \"typing_extensions==4.5.0\" \"accelerate>=0.16.0,<1\" \"transformers[torch]>=4.28.1,<5\" \"torch>=1.13.1,<2\" \"langchain\""
   ]
  },
  {
   "cell_type": "markdown",
   "metadata": {
    "application/vnd.databricks.v1+cell": {
     "cellMetadata": {
      "byteLimit": 2048000,
      "rowLimit": 10000
     },
     "inputWidgets": {},
     "nuid": "a0eb9afb-5c8e-41f8-9794-ade448422af0",
     "showTitle": false,
     "title": ""
    }
   },
   "source": [
    "LangChain is built to customize any LLM (e.g., GPT-4, Dolly2) with your own data, allowing the model to be fine-tuned on any custom dataset"
   ]
  },
  {
   "cell_type": "markdown",
   "metadata": {
    "application/vnd.databricks.v1+cell": {
     "cellMetadata": {
      "byteLimit": 2048000,
      "rowLimit": 10000
     },
     "inputWidgets": {},
     "nuid": "3450651c-4f11-426c-87e0-8660682b42ad",
     "showTitle": false,
     "title": ""
    }
   },
   "source": [
    "# Imports"
   ]
  },
  {
   "cell_type": "code",
   "execution_count": 0,
   "metadata": {
    "application/vnd.databricks.v1+cell": {
     "cellMetadata": {
      "byteLimit": 2048000,
      "rowLimit": 10000
     },
     "inputWidgets": {},
     "nuid": "826d33b2-4b6f-4e93-bf83-e8065bec302a",
     "showTitle": false,
     "title": ""
    }
   },
   "outputs": [],
   "source": [
    "import torch\n",
    "from transformers import pipeline\n",
    "\n",
    "# langchain\n",
    "from langchain import PromptTemplate, LLMChain\n",
    "from langchain.llms import HuggingFacePipeline"
   ]
  },
  {
   "cell_type": "markdown",
   "metadata": {
    "application/vnd.databricks.v1+cell": {
     "cellMetadata": {
      "byteLimit": 2048000,
      "rowLimit": 10000
     },
     "inputWidgets": {},
     "nuid": "8a9387f5-d6ed-4b19-8865-c226ee816815",
     "showTitle": false,
     "title": ""
    }
   },
   "source": [
    "# Create Transformers Pipeline"
   ]
  },
  {
   "cell_type": "markdown",
   "metadata": {
    "application/vnd.databricks.v1+cell": {
     "cellMetadata": {
      "byteLimit": 2048000,
      "rowLimit": 10000
     },
     "inputWidgets": {},
     "nuid": "146894ce-a00c-42ef-b140-049a61852238",
     "showTitle": false,
     "title": ""
    }
   },
   "source": [
    "## Define Model Architecture"
   ]
  },
  {
   "cell_type": "markdown",
   "metadata": {
    "application/vnd.databricks.v1+cell": {
     "cellMetadata": {
      "byteLimit": 2048000,
      "rowLimit": 10000
     },
     "inputWidgets": {},
     "nuid": "12acfc78-0b4b-4576-a471-b3bef0da681c",
     "showTitle": false,
     "title": ""
    }
   },
   "source": [
    "- Dolly: https://huggingface.co/databricks\n",
    "- Falcon: https://huggingface.co/tiiuae/falcon-40b"
   ]
  },
  {
   "cell_type": "code",
   "execution_count": 0,
   "metadata": {
    "application/vnd.databricks.v1+cell": {
     "cellMetadata": {
      "byteLimit": 2048000,
      "rowLimit": 10000
     },
     "inputWidgets": {},
     "nuid": "ca5cdab8-30f6-48a2-93e8-ca844ea9bda3",
     "showTitle": false,
     "title": ""
    }
   },
   "outputs": [],
   "source": [
    "architecture = \"databricks/dolly-v2-7b\""
   ]
  },
  {
   "cell_type": "markdown",
   "metadata": {
    "application/vnd.databricks.v1+cell": {
     "cellMetadata": {
      "byteLimit": 2048000,
      "rowLimit": 10000
     },
     "inputWidgets": {},
     "nuid": "f3c64d2b-9aad-4936-af33-0683ad3ca686",
     "showTitle": false,
     "title": ""
    }
   },
   "source": [
    "## Define Pipeline"
   ]
  },
  {
   "cell_type": "code",
   "execution_count": 0,
   "metadata": {
    "application/vnd.databricks.v1+cell": {
     "cellMetadata": {
      "byteLimit": 2048000,
      "rowLimit": 10000
     },
     "inputWidgets": {},
     "nuid": "579a954d-b5d9-4977-9e86-c4225656be1d",
     "showTitle": false,
     "title": ""
    }
   },
   "outputs": [
    {
     "output_type": "display_data",
     "data": {
      "application/vnd.jupyter.widget-view+json": {
       "model_id": "df73f5c34bd843a58de35435bb9b505e",
       "version_major": 2,
       "version_minor": 0
      },
      "text/plain": [
       "Downloading config.json:   0%|          | 0.00/819 [00:00<?, ?B/s]"
      ]
     },
     "metadata": {},
     "output_type": "display_data"
    },
    {
     "output_type": "display_data",
     "data": {
      "application/vnd.jupyter.widget-view+json": {
       "model_id": "cf1da725f51142f1afe1ccecb870d2a0",
       "version_major": 2,
       "version_minor": 0
      },
      "text/plain": [
       "Downloading instruct_pipeline.py:   0%|          | 0.00/8.94k [00:00<?, ?B/s]"
      ]
     },
     "metadata": {},
     "output_type": "display_data"
    },
    {
     "output_type": "display_data",
     "data": {
      "application/vnd.jupyter.widget-view+json": {
       "model_id": "8a5e019c9cd2497690a972c791b531b2",
       "version_major": 2,
       "version_minor": 0
      },
      "text/plain": [
       "Downloading pytorch_model.bin:   0%|          | 0.00/12.9G [00:00<?, ?B/s]"
      ]
     },
     "metadata": {},
     "output_type": "display_data"
    },
    {
     "output_type": "display_data",
     "data": {
      "application/vnd.jupyter.widget-view+json": {
       "model_id": "fc954a28470040619891542742e28c11",
       "version_major": 2,
       "version_minor": 0
      },
      "text/plain": [
       "Downloading tokenizer_config.json:   0%|          | 0.00/450 [00:00<?, ?B/s]"
      ]
     },
     "metadata": {},
     "output_type": "display_data"
    },
    {
     "output_type": "display_data",
     "data": {
      "application/vnd.jupyter.widget-view+json": {
       "model_id": "f3fe0d8b642147d88a26ee8e45cd256d",
       "version_major": 2,
       "version_minor": 0
      },
      "text/plain": [
       "Downloading tokenizer.json:   0%|          | 0.00/2.02M [00:00<?, ?B/s]"
      ]
     },
     "metadata": {},
     "output_type": "display_data"
    },
    {
     "output_type": "display_data",
     "data": {
      "application/vnd.jupyter.widget-view+json": {
       "model_id": "03a3586d5af84b89a5b9c4b4a8a64abe",
       "version_major": 2,
       "version_minor": 0
      },
      "text/plain": [
       "Downloading special_tokens_map.json:   0%|          | 0.00/228 [00:00<?, ?B/s]"
      ]
     },
     "metadata": {},
     "output_type": "display_data"
    }
   ],
   "source": [
    "dolly = pipeline(\n",
    "    model=architecture,\n",
    "    torch_dtype=torch.bfloat16,\n",
    "    trust_remote_code=True,\n",
    "    device_map=\"auto\",\n",
    "    return_full_text=True,\n",
    ")"
   ]
  },
  {
   "cell_type": "markdown",
   "metadata": {
    "application/vnd.databricks.v1+cell": {
     "cellMetadata": {
      "byteLimit": 2048000,
      "rowLimit": 10000
     },
     "inputWidgets": {},
     "nuid": "c3f23f49-55f8-469d-823d-862db4408a6b",
     "showTitle": false,
     "title": ""
    }
   },
   "source": [
    "# Make Inferences"
   ]
  },
  {
   "cell_type": "code",
   "execution_count": 0,
   "metadata": {
    "application/vnd.databricks.v1+cell": {
     "cellMetadata": {
      "byteLimit": 2048000,
      "rowLimit": 10000
     },
     "inputWidgets": {},
     "nuid": "72ea25ac-187b-4189-bbc4-083b57584db8",
     "showTitle": false,
     "title": ""
    }
   },
   "outputs": [
    {
     "output_type": "stream",
     "name": "stdout",
     "output_type": "stream",
     "text": [
      "Out[4]: [{'generated_text': 'Suggest a recipe that I can cook in under 30 minutes with eggs.\\nYou can cook a delicious breakfast in just 30 minutes with the following recipe.\\nIngredients:\\n8 eggs\\n1 onion\\n2 stalks of celery\\n1 bay leaf\\n1 clove of garlic\\nBlack pepper\\nSalt\\n1/2 lb bacon\\n1/2 lb Canadian bacon\\n2 tomatoes\\n4 slices of white bread\\n1/3 cup of mayonnaise\\n1 oz red pepper dpenaliase\\n1 oz of white wine vinegar\\n1/4 oz of garlic powder\\n1/2 oz of paprika\\n1/2 oz of salt\\n1/2 oz of black pepper\\n1/2 oz of cayenne pepper\\n1/2 oz of onion powder\\n1/2 oz of mustard powder\\n1/2 oz of cumin\\n1/2 oz of celery salt\\n1/4 oz of cardamom\\n1/4 oz of mace\\n1/4 oz of thyme\\n1/2 oz of cayenne pepper\\n1/2 oz of white pepper\\n1/2 oz of red pepper dpenaliase\\n1/2 oz of black pepper\\n1/2 oz of oregano\\n1/2 oz of basil\\n1/2 oz of tarragon'}]"
     ]
    }
   ],
   "source": [
    "dolly(\"Suggest a recipe that I can cook in under 30 minutes with eggs.\")"
   ]
  },
  {
   "cell_type": "code",
   "execution_count": 0,
   "metadata": {
    "application/vnd.databricks.v1+cell": {
     "cellMetadata": {
      "byteLimit": 2048000,
      "rowLimit": 10000
     },
     "inputWidgets": {},
     "nuid": "7bcf0368-01b1-4936-a3e6-9a569bd15177",
     "showTitle": false,
     "title": ""
    }
   },
   "outputs": [],
   "source": [
    "# template for an instrution with no input\n",
    "prompt = PromptTemplate(input_variables=[\"instruction\"], template=\"{instruction}\")\n",
    "\n",
    "# template for an instruction with input\n",
    "prompt_with_context = PromptTemplate(\n",
    "    input_variables=[\"instruction\", \"context\"],\n",
    "    template=\"{instruction}\\n\\nInput:\\n{context}\",\n",
    ")\n",
    "\n",
    "hf_pipeline = HuggingFacePipeline(pipeline=dolly)\n",
    "\n",
    "llm_chain = LLMChain(llm=hf_pipeline, prompt=prompt)\n",
    "llm_context_chain = LLMChain(llm=hf_pipeline, prompt=prompt_with_context)"
   ]
  },
  {
   "cell_type": "code",
   "execution_count": 0,
   "metadata": {
    "application/vnd.databricks.v1+cell": {
     "cellMetadata": {
      "byteLimit": 2048000,
      "rowLimit": 10000
     },
     "inputWidgets": {},
     "nuid": "6c1e4d87-e774-43f5-bf44-605f64158c19",
     "showTitle": false,
     "title": ""
    }
   },
   "outputs": [
    {
     "output_type": "stream",
     "name": "stdout",
     "output_type": "stream",
     "text": [
      "To make egg burgers, beat one large egg and a pinch of sea salt and pepper together in a bowl. Add 1 finely grated white onion, 1 minced garlic clove and a pinch of dried dill. Mix well. Dampen a kitchen paper and lightly bash the side of a cold pan with the cloth to season the pan. Heat a knob of butter or margarine in the pan then break an egg into the pan, dividing it evenly. Cook until the egg whites are firm and the yolks are still runny. Season the egg whites. Transfer to a plate and keep to one side. Cook the burgers until golden, then flip and repeat. Serve on a bun with tomato, mayonnaise and salad.\n"
     ]
    }
   ],
   "source": [
    "# Example predicting using a simple instruction:\n",
    "print(llm_chain.predict(instruction=\"Suggest a recipe that I can cook in under 30 minutes with eggs.\").lstrip())"
   ]
  },
  {
   "cell_type": "code",
   "execution_count": 0,
   "metadata": {
    "application/vnd.databricks.v1+cell": {
     "cellMetadata": {
      "byteLimit": 2048000,
      "rowLimit": 10000
     },
     "inputWidgets": {},
     "nuid": "4e226531-2dbe-4cba-8454-e27a2e8a0083",
     "showTitle": false,
     "title": ""
    }
   },
   "outputs": [
    {
     "output_type": "stream",
     "name": "stdout",
     "output_type": "stream",
     "text": [
      "You can make quick Eggs in a Minute with herbs, shallots, garlic, mustard seeds, cumin, and turmeric. Then you can make a quick scramble with eggs, olive oil, and kosher salt.\n"
     ]
    }
   ],
   "source": [
    "# Example predicting using an instruction with context:\n",
    "context = \"\"\"Step 1\n",
    "Crack 2 large eggs into a small bowl; season with kosher salt and beat well to blend. Toss ¼ cup cilantro and/or mint leaves with the juice of 1 lime wedge in another small bowl; season with salt and set aside.\n",
    "\n",
    "Step 2\n",
    "Heat 2 Tbsp. extra-virgin olive oil in a medium nonstick skillet over medium-high. Add 1 large shallot, thinly sliced, 1 jalapeño, seeds removed if desired, finely chopped, and 2 garlic cloves, finely chopped; season with salt. Cook, stirring occasionally, until shallot is slightly softened, about 3 minutes. Sprinkle 1 Tbsp. mustard seeds, 1 tsp. ground cumin, and 1 tsp. ground turmeric over, using a swooping motion to streak the spices across the pan. Spray with nonstick vegetable oil spray (if using); do not stir. \n",
    "\n",
    "Step 3\n",
    "Pour eggs into skillet, tilting pan to spread into a very thin layer. Cover with a lid and cook until top of crepe is just set, 1–2 minutes.\n",
    "\n",
    "Step 4\n",
    "Scatter reserved herbs over half of crepe. Using a heatproof spatula, fold other half of crepe up and over herbs, then slide crepe onto a plate. Serve with ketchup.\"\"\"\n",
    "\n",
    "# Example predicting using a simple instruction:\n",
    "print(\n",
    "    llm_context_chain.predict(\n",
    "        instruction=\"Suggest a recipe that I can cook in under 30 minutes with eggs.\",\n",
    "        context=context,\n",
    "    ).lstrip()\n",
    ")"
   ]
  }
 ],
 "metadata": {
  "application/vnd.databricks.v1+notebook": {
   "dashboards": [],
   "language": "python",
   "notebookMetadata": {
    "mostRecentlyExecutedCommandWithImplicitDF": {
     "commandId": 3664269683216823,
     "dataframes": [
      "_sqldf"
     ]
    },
    "pythonIndentUnit": 4
   },
   "notebookName": "Dolly2 + LangChain Setup",
   "widgets": {}
  }
 },
 "nbformat": 4,
 "nbformat_minor": 0
}
